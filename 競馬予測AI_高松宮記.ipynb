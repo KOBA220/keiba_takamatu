{
 "cells": [
  {
   "cell_type": "code",
   "execution_count": 1,
   "id": "a7213c67",
   "metadata": {},
   "outputs": [],
   "source": [
    "import numpy as np\n",
    "import pandas as pd\n",
    "import sklearn"
   ]
  },
  {
   "cell_type": "code",
   "execution_count": 2,
   "id": "b746c3c5",
   "metadata": {},
   "outputs": [],
   "source": [
    "takamatu = pd.read_csv(\"keiba_takamatu.csv\")"
   ]
  },
  {
   "cell_type": "code",
   "execution_count": 3,
   "id": "cc64ba27",
   "metadata": {},
   "outputs": [
    {
     "data": {
      "text/html": [
       "<div>\n",
       "<style scoped>\n",
       "    .dataframe tbody tr th:only-of-type {\n",
       "        vertical-align: middle;\n",
       "    }\n",
       "\n",
       "    .dataframe tbody tr th {\n",
       "        vertical-align: top;\n",
       "    }\n",
       "\n",
       "    .dataframe thead th {\n",
       "        text-align: right;\n",
       "    }\n",
       "</style>\n",
       "<table border=\"1\" class=\"dataframe\">\n",
       "  <thead>\n",
       "    <tr style=\"text-align: right;\">\n",
       "      <th></th>\n",
       "      <th>race_id</th>\n",
       "      <th>rank</th>\n",
       "      <th>rane_number</th>\n",
       "      <th>just_number</th>\n",
       "      <th>sex</th>\n",
       "      <th>age</th>\n",
       "      <th>mascle</th>\n",
       "      <th>popular</th>\n",
       "      <th>weight</th>\n",
       "      <th>horse_id</th>\n",
       "      <th>jocky_id</th>\n",
       "    </tr>\n",
       "  </thead>\n",
       "  <tbody>\n",
       "    <tr>\n",
       "      <th>0</th>\n",
       "      <td>2.020000e+11</td>\n",
       "      <td>1</td>\n",
       "      <td>7</td>\n",
       "      <td>13</td>\n",
       "      <td>1</td>\n",
       "      <td>7</td>\n",
       "      <td>58</td>\n",
       "      <td>12</td>\n",
       "      <td>518</td>\n",
       "      <td>20160509</td>\n",
       "      <td>20000622</td>\n",
       "    </tr>\n",
       "    <tr>\n",
       "      <th>1</th>\n",
       "      <td>2.020000e+11</td>\n",
       "      <td>2</td>\n",
       "      <td>7</td>\n",
       "      <td>15</td>\n",
       "      <td>0</td>\n",
       "      <td>4</td>\n",
       "      <td>56</td>\n",
       "      <td>2</td>\n",
       "      <td>466</td>\n",
       "      <td>20190330</td>\n",
       "      <td>19881225</td>\n",
       "    </tr>\n",
       "    <tr>\n",
       "      <th>2</th>\n",
       "      <td>2.020000e+11</td>\n",
       "      <td>3</td>\n",
       "      <td>1</td>\n",
       "      <td>1</td>\n",
       "      <td>1</td>\n",
       "      <td>8</td>\n",
       "      <td>58</td>\n",
       "      <td>13</td>\n",
       "      <td>484</td>\n",
       "      <td>20150404</td>\n",
       "      <td>19851105</td>\n",
       "    </tr>\n",
       "    <tr>\n",
       "      <th>3</th>\n",
       "      <td>2.020000e+11</td>\n",
       "      <td>4</td>\n",
       "      <td>3</td>\n",
       "      <td>6</td>\n",
       "      <td>1</td>\n",
       "      <td>7</td>\n",
       "      <td>58</td>\n",
       "      <td>9</td>\n",
       "      <td>492</td>\n",
       "      <td>20160405</td>\n",
       "      <td>19860520</td>\n",
       "    </tr>\n",
       "    <tr>\n",
       "      <th>4</th>\n",
       "      <td>2.020000e+11</td>\n",
       "      <td>5</td>\n",
       "      <td>8</td>\n",
       "      <td>16</td>\n",
       "      <td>1</td>\n",
       "      <td>5</td>\n",
       "      <td>58</td>\n",
       "      <td>10</td>\n",
       "      <td>468</td>\n",
       "      <td>20180204</td>\n",
       "      <td>20000531</td>\n",
       "    </tr>\n",
       "  </tbody>\n",
       "</table>\n",
       "</div>"
      ],
      "text/plain": [
       "        race_id  rank  rane_number  just_number  sex  age  mascle  popular  \\\n",
       "0  2.020000e+11     1            7           13    1    7      58       12   \n",
       "1  2.020000e+11     2            7           15    0    4      56        2   \n",
       "2  2.020000e+11     3            1            1    1    8      58       13   \n",
       "3  2.020000e+11     4            3            6    1    7      58        9   \n",
       "4  2.020000e+11     5            8           16    1    5      58       10   \n",
       "\n",
       "   weight  horse_id  jocky_id  \n",
       "0     518  20160509  20000622  \n",
       "1     466  20190330  19881225  \n",
       "2     484  20150404  19851105  \n",
       "3     492  20160405  19860520  \n",
       "4     468  20180204  20000531  "
      ]
     },
     "execution_count": 3,
     "metadata": {},
     "output_type": "execute_result"
    }
   ],
   "source": [
    "takamatu.head()"
   ]
  },
  {
   "cell_type": "code",
   "execution_count": 4,
   "id": "a813ec10",
   "metadata": {},
   "outputs": [],
   "source": [
    "y = takamatu[\"rank\"]\n",
    "x = np.array(takamatu.drop([\"rank\", \"horse_id\"], axis=1))"
   ]
  },
  {
   "cell_type": "code",
   "execution_count": 5,
   "id": "0be309dc",
   "metadata": {},
   "outputs": [],
   "source": [
    "y_array = np.array(y)\n",
    "x_array = np.array(x)"
   ]
  },
  {
   "cell_type": "code",
   "execution_count": 6,
   "id": "d6aaeae9",
   "metadata": {},
   "outputs": [
    {
     "name": "stdout",
     "output_type": "stream",
     "text": [
      "y_array:  (54,)\n",
      "x_array:  (54, 9)\n"
     ]
    }
   ],
   "source": [
    "print(\"y_array: \", y_array.shape)\n",
    "print(\"x_array: \", x_array.shape)"
   ]
  },
  {
   "cell_type": "code",
   "execution_count": 7,
   "id": "38304b65",
   "metadata": {},
   "outputs": [],
   "source": [
    "from sklearn.model_selection import train_test_split"
   ]
  },
  {
   "cell_type": "code",
   "execution_count": 8,
   "id": "cba80bf3",
   "metadata": {},
   "outputs": [],
   "source": [
    "x_train, x_test, y_train, y_test = train_test_split(x_array, y_array, test_size=0.2, random_state=0)"
   ]
  },
  {
   "cell_type": "code",
   "execution_count": 9,
   "id": "a6b28214",
   "metadata": {},
   "outputs": [
    {
     "name": "stdout",
     "output_type": "stream",
     "text": [
      "x_train:  (43, 9)\n",
      "y_train:  (43,)\n",
      "x_test:  (11, 9)\n",
      "y_test:  (11,)\n"
     ]
    }
   ],
   "source": [
    "print(\"x_train: \", x_train.shape)\n",
    "print(\"y_train: \", y_train.shape)\n",
    "print(\"x_test: \", x_test.shape)\n",
    "print(\"y_test: \", y_test.shape)"
   ]
  },
  {
   "cell_type": "code",
   "execution_count": 10,
   "id": "13a88d9a",
   "metadata": {},
   "outputs": [],
   "source": [
    "from sklearn.ensemble import RandomForestClassifier"
   ]
  },
  {
   "cell_type": "code",
   "execution_count": 11,
   "id": "b324f3ee",
   "metadata": {},
   "outputs": [],
   "source": [
    "rfc = RandomForestClassifier(random_state=0)"
   ]
  },
  {
   "cell_type": "code",
   "execution_count": 12,
   "id": "4c1e80b7",
   "metadata": {},
   "outputs": [
    {
     "data": {
      "text/plain": [
       "RandomForestClassifier(random_state=0)"
      ]
     },
     "execution_count": 12,
     "metadata": {},
     "output_type": "execute_result"
    }
   ],
   "source": [
    "rfc.fit(x_train, y_train)"
   ]
  },
  {
   "cell_type": "code",
   "execution_count": 13,
   "id": "d0fae85c",
   "metadata": {},
   "outputs": [],
   "source": [
    "y_pred = rfc.predict(x_test)"
   ]
  },
  {
   "cell_type": "code",
   "execution_count": 14,
   "id": "bf53738b",
   "metadata": {},
   "outputs": [
    {
     "name": "stdout",
     "output_type": "stream",
     "text": [
      "[ 1 15  4 17  6  9  1  8 10 11 10]\n"
     ]
    }
   ],
   "source": [
    "print(y_pred)"
   ]
  },
  {
   "cell_type": "code",
   "execution_count": 16,
   "id": "09ea44b7",
   "metadata": {},
   "outputs": [],
   "source": [
    "takamatu2 = pd.read_csv(\"keiba_takamatu_text.csv\")"
   ]
  },
  {
   "cell_type": "code",
   "execution_count": 18,
   "id": "f0ce8d5b",
   "metadata": {},
   "outputs": [
    {
     "data": {
      "text/html": [
       "<div>\n",
       "<style scoped>\n",
       "    .dataframe tbody tr th:only-of-type {\n",
       "        vertical-align: middle;\n",
       "    }\n",
       "\n",
       "    .dataframe tbody tr th {\n",
       "        vertical-align: top;\n",
       "    }\n",
       "\n",
       "    .dataframe thead th {\n",
       "        text-align: right;\n",
       "    }\n",
       "</style>\n",
       "<table border=\"1\" class=\"dataframe\">\n",
       "  <thead>\n",
       "    <tr style=\"text-align: right;\">\n",
       "      <th></th>\n",
       "      <th>race_id</th>\n",
       "      <th>rank</th>\n",
       "      <th>rane_number</th>\n",
       "      <th>just_number</th>\n",
       "      <th>sex</th>\n",
       "      <th>age</th>\n",
       "      <th>mascle</th>\n",
       "      <th>popular</th>\n",
       "      <th>weight</th>\n",
       "      <th>horse_id</th>\n",
       "      <th>jocky_id</th>\n",
       "    </tr>\n",
       "  </thead>\n",
       "  <tbody>\n",
       "    <tr>\n",
       "      <th>0</th>\n",
       "      <td>2.020000e+11</td>\n",
       "      <td>1</td>\n",
       "      <td>8</td>\n",
       "      <td>16</td>\n",
       "      <td>0</td>\n",
       "      <td>5</td>\n",
       "      <td>55</td>\n",
       "      <td>9</td>\n",
       "      <td>494</td>\n",
       "      <td>20150401</td>\n",
       "      <td>19950904</td>\n",
       "    </tr>\n",
       "    <tr>\n",
       "      <th>1</th>\n",
       "      <td>2.020000e+11</td>\n",
       "      <td>2</td>\n",
       "      <td>4</td>\n",
       "      <td>8</td>\n",
       "      <td>0</td>\n",
       "      <td>4</td>\n",
       "      <td>55</td>\n",
       "      <td>2</td>\n",
       "      <td>486</td>\n",
       "      <td>20160124</td>\n",
       "      <td>19790723</td>\n",
       "    </tr>\n",
       "    <tr>\n",
       "      <th>2</th>\n",
       "      <td>2.020000e+11</td>\n",
       "      <td>3</td>\n",
       "      <td>2</td>\n",
       "      <td>3</td>\n",
       "      <td>1</td>\n",
       "      <td>5</td>\n",
       "      <td>57</td>\n",
       "      <td>4</td>\n",
       "      <td>472</td>\n",
       "      <td>20150512</td>\n",
       "      <td>19861003</td>\n",
       "    </tr>\n",
       "    <tr>\n",
       "      <th>3</th>\n",
       "      <td>2.020000e+11</td>\n",
       "      <td>4</td>\n",
       "      <td>6</td>\n",
       "      <td>11</td>\n",
       "      <td>1</td>\n",
       "      <td>4</td>\n",
       "      <td>57</td>\n",
       "      <td>15</td>\n",
       "      <td>494</td>\n",
       "      <td>20160317</td>\n",
       "      <td>19770623</td>\n",
       "    </tr>\n",
       "    <tr>\n",
       "      <th>4</th>\n",
       "      <td>2.020000e+11</td>\n",
       "      <td>5</td>\n",
       "      <td>8</td>\n",
       "      <td>17</td>\n",
       "      <td>1</td>\n",
       "      <td>5</td>\n",
       "      <td>57</td>\n",
       "      <td>12</td>\n",
       "      <td>500</td>\n",
       "      <td>20150327</td>\n",
       "      <td>19860317</td>\n",
       "    </tr>\n",
       "  </tbody>\n",
       "</table>\n",
       "</div>"
      ],
      "text/plain": [
       "        race_id  rank  rane_number  just_number  sex  age  mascle  popular  \\\n",
       "0  2.020000e+11     1            8           16    0    5      55        9   \n",
       "1  2.020000e+11     2            4            8    0    4      55        2   \n",
       "2  2.020000e+11     3            2            3    1    5      57        4   \n",
       "3  2.020000e+11     4            6           11    1    4      57       15   \n",
       "4  2.020000e+11     5            8           17    1    5      57       12   \n",
       "\n",
       "   weight  horse_id  jocky_id  \n",
       "0     494  20150401  19950904  \n",
       "1     486  20160124  19790723  \n",
       "2     472  20150512  19861003  \n",
       "3     494  20160317  19770623  \n",
       "4     500  20150327  19860317  "
      ]
     },
     "execution_count": 18,
     "metadata": {},
     "output_type": "execute_result"
    }
   ],
   "source": [
    "takamatu2.head()"
   ]
  },
  {
   "cell_type": "code",
   "execution_count": 20,
   "id": "e02a0861",
   "metadata": {},
   "outputs": [],
   "source": [
    "x2 = np.array(takamatu2.drop([\"rank\",\"horse_id\"], axis=1))"
   ]
  },
  {
   "cell_type": "code",
   "execution_count": 21,
   "id": "1c41d1d8",
   "metadata": {},
   "outputs": [],
   "source": [
    "x2_array = np.array(x2)"
   ]
  },
  {
   "cell_type": "code",
   "execution_count": 22,
   "id": "74cf730b",
   "metadata": {},
   "outputs": [],
   "source": [
    "y2_pred = rfc.predict(x2_array)"
   ]
  },
  {
   "cell_type": "code",
   "execution_count": 23,
   "id": "3a35af23",
   "metadata": {},
   "outputs": [
    {
     "name": "stdout",
     "output_type": "stream",
     "text": [
      "[ 2  2  1 14 10 14 14  9  1  3 16  3 14  8 12 17  8  8]\n"
     ]
    }
   ],
   "source": [
    "print(y2_pred)"
   ]
  },
  {
   "cell_type": "code",
   "execution_count": 25,
   "id": "fe916d02",
   "metadata": {},
   "outputs": [],
   "source": [
    "takamatu3 = takamatu2.drop([\"race_id\",\"rane_number\",\"just_number\",\"sex\",\"age\",\"mascle\",\"popular\",\"weight\",\"jocky_id\"], axis=1)"
   ]
  },
  {
   "cell_type": "code",
   "execution_count": 27,
   "id": "35910948",
   "metadata": {},
   "outputs": [
    {
     "name": "stdout",
     "output_type": "stream",
     "text": [
      "    rank  horse_id\n",
      "0      1  20150401\n",
      "1      2  20160124\n",
      "2      3  20150512\n",
      "3      4  20160317\n",
      "4      5  20150327\n",
      "5      6  20160405\n",
      "6      7  20130308\n",
      "7      8  20100418\n",
      "8      9  20150115\n",
      "9     10  20150306\n",
      "10    11  20160204\n",
      "11    12  20150209\n",
      "12    13  20140331\n",
      "13    14  20130311\n",
      "14    15  20150225\n",
      "15    16  20150411\n",
      "16    17  20130409\n",
      "17    18  20160520\n"
     ]
    }
   ],
   "source": [
    "print(takamatu3)"
   ]
  },
  {
   "cell_type": "code",
   "execution_count": 28,
   "id": "ff568df6",
   "metadata": {},
   "outputs": [],
   "source": [
    "takamatu3[\"rank\"] = y2_pred"
   ]
  },
  {
   "cell_type": "code",
   "execution_count": 29,
   "id": "7c726fab",
   "metadata": {},
   "outputs": [
    {
     "name": "stdout",
     "output_type": "stream",
     "text": [
      "    rank  horse_id\n",
      "0      2  20150401\n",
      "1      2  20160124\n",
      "2      1  20150512\n",
      "3     14  20160317\n",
      "4     10  20150327\n",
      "5     14  20160405\n",
      "6     14  20130308\n",
      "7      9  20100418\n",
      "8      1  20150115\n",
      "9      3  20150306\n",
      "10    16  20160204\n",
      "11     3  20150209\n",
      "12    14  20140331\n",
      "13     8  20130311\n",
      "14    12  20150225\n",
      "15    17  20150411\n",
      "16     8  20130409\n",
      "17     8  20160520\n"
     ]
    }
   ],
   "source": [
    "print(takamatu3)"
   ]
  },
  {
   "cell_type": "code",
   "execution_count": 31,
   "id": "abfcbea8",
   "metadata": {},
   "outputs": [],
   "source": [
    "takamatu3.to_csv(\"takamatu_pred.csv\", index=False)"
   ]
  },
  {
   "cell_type": "code",
   "execution_count": null,
   "id": "90ff77b6",
   "metadata": {},
   "outputs": [],
   "source": []
  }
 ],
 "metadata": {
  "kernelspec": {
   "display_name": "Python 3 (ipykernel)",
   "language": "python",
   "name": "python3"
  },
  "language_info": {
   "codemirror_mode": {
    "name": "ipython",
    "version": 3
   },
   "file_extension": ".py",
   "mimetype": "text/x-python",
   "name": "python",
   "nbconvert_exporter": "python",
   "pygments_lexer": "ipython3",
   "version": "3.9.13"
  }
 },
 "nbformat": 4,
 "nbformat_minor": 5
}
